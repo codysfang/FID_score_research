{
 "cells": [
  {
   "cell_type": "code",
   "execution_count": null,
   "id": "aaa9f182-49b5-4321-b316-d9f85e8774e6",
   "metadata": {},
   "outputs": [],
   "source": [
    "import torch\n",
    "import torchvision.transforms as transforms\n",
    "from torch.utils.data import DataLoader\n",
    "import torchvision.datasets as datasets\n",
    "import FID_util\n",
    "import matplotlib.pyplot as plt\n",
    "import numpy as np\n",
    "%matplotlib inline\n",
    "\n",
    "# Set seed here\n",
    "seed = 123459\n",
    "torch.manual_seed(seed)\n",
    "\n",
    "plot_path = \"./plots/FID_diffusion_image/\""
   ]
  },
  {
   "cell_type": "markdown",
   "id": "b67e562e-6262-44ea-8fbf-0727adb1d0cd",
   "metadata": {},
   "source": [
    "## Data Sets"
   ]
  },
  {
   "cell_type": "code",
   "execution_count": null,
   "id": "8915405c-1b24-4e11-85a8-0b3418099704",
   "metadata": {},
   "outputs": [],
   "source": [
    "CIFAR_train_loader = DataLoader(datasets.CIFAR10('./data', train=True, download=True,\n",
    "                             transform=transforms.Compose([\n",
    "                               transforms.PILToTensor()])), batch_size=10000, shuffle=True)\n",
    "\n",
    "CIFAR_train = FID_util.load_data_single(CIFAR_train_loader, 10000, (32, 32))\n",
    "CIFAR_generated = FID_util.load_from_dir(\"./diffusion_images/cifar_generated/*.png\")\n",
    "print(f\"Base FID CIFAR-10: {FID_util.compute_FID(CIFAR_train, CIFAR_generated).item()}\")"
   ]
  },
  {
   "cell_type": "code",
   "execution_count": null,
   "id": "4235508a-8c90-4369-9493-05e83913fc1b",
   "metadata": {},
   "outputs": [],
   "source": [
    "CelebA_train = FID_util.load_from_dir(\"./data/celeba_hq_256/*.jpg\", seed)\n",
    "CelebA_generated = FID_util.load_from_dir(\"./diffusion_images/celebA_generated/*.png\")\n",
    "print(f\"Base FID CelebA-HQ DDIM: {FID_util.compute_FID(CelebA_train, CelebA_generated, batch_num=125).item()}\")\n",
    "CelebA_ldm_generated = FID_util.load_from_dir(\"./diffusion_images/celebA_ldm_generated/*.png\")\n",
    "print(f\"Base FID CelebA-HQ LDM: {FID_util.compute_FID(CelebA_train, CelebA_ldm_generated, batch_num=125).item()}\")"
   ]
  },
  {
   "cell_type": "markdown",
   "id": "56629fa5-c291-456b-b911-7c14364a1d9d",
   "metadata": {},
   "source": [
    "## Gamma Correction"
   ]
  },
  {
   "cell_type": "code",
   "execution_count": null,
   "id": "2880f539-c8d9-40d1-99a6-fecf352c5fb2",
   "metadata": {},
   "outputs": [],
   "source": [
    "gamma_array = np.arange(0.2, 3.0, 0.2)\n",
    "FID_util.plot_FID(gamma_array, transforms.functional.adjust_gamma, \"Gamma\", CIFAR_train, CIFAR_generated)\n",
    "plt.savefig(plot_path + \"g_CIFAR_gamma_fid_scores\")"
   ]
  },
  {
   "cell_type": "code",
   "execution_count": null,
   "id": "2e450c6d-4e2a-4ee6-bee7-b9d2762ed612",
   "metadata": {},
   "outputs": [],
   "source": [
    "FID_util.plot_FID(gamma_array, transforms.functional.adjust_gamma, \"Gamma\", CelebA_train, CelebA_generated, batch_num=125)\n",
    "plt.savefig(plot_path + \"g_CelebA_gamma_fid_scores\")"
   ]
  },
  {
   "cell_type": "code",
   "execution_count": null,
   "id": "d50976f1-072f-4779-ba98-84a29e405b66",
   "metadata": {},
   "outputs": [],
   "source": [
    "FID_util.plot_FID(gamma_array, transforms.functional.adjust_gamma, \"Gamma\", CelebA_train, CelebA_ldm_generated, batch_num=125)\n",
    "plt.savefig(plot_path + \"g_CelebA_ldm_gamma_fid_scores\")"
   ]
  },
  {
   "cell_type": "markdown",
   "id": "d456776e-b6c2-48e4-81f4-54e1a2aaa262",
   "metadata": {},
   "source": [
    "## Image Saturation"
   ]
  },
  {
   "cell_type": "code",
   "execution_count": null,
   "id": "208a1e31-fccc-46e9-bff4-24b38ff47485",
   "metadata": {},
   "outputs": [],
   "source": [
    "level_array = np.arange(0.2, 3.0, 0.2)\n",
    "FID_util.plot_FID(level_array, transforms.functional.adjust_saturation, \"Saturation\", CIFAR_train, CIFAR_generated)\n",
    "plt.savefig(plot_path + \"g_CIFAR_saturation_fid_scores\")"
   ]
  },
  {
   "cell_type": "code",
   "execution_count": null,
   "id": "8d2f1d52-77ff-4aec-a168-af4ad6b07166",
   "metadata": {},
   "outputs": [],
   "source": [
    "FID_util.plot_FID(level_array, transforms.functional.adjust_saturation, \"Saturation\", CelebA_train, CelebA_generated, batch_num=125)\n",
    "plt.savefig(plot_path + \"g_CelebA_saturation_fid_scores\")"
   ]
  },
  {
   "cell_type": "code",
   "execution_count": null,
   "id": "94c3c96e-7a3c-4503-8b3c-3beab3731814",
   "metadata": {},
   "outputs": [],
   "source": [
    "FID_util.plot_FID(gamma_array, transforms.functional.adjust_saturation, \"Saturation\", CelebA_train, CelebA_ldm_generated, batch_num=125)\n",
    "plt.savefig(plot_path + \"g_CelebA_ldm_saturation_fid_scores\")"
   ]
  },
  {
   "cell_type": "markdown",
   "id": "9731d8f4-688a-4c05-9f2c-2942e1270b74",
   "metadata": {},
   "source": [
    "## Image Sharpening"
   ]
  },
  {
   "cell_type": "code",
   "execution_count": null,
   "id": "dffc0e17-afb0-443c-944f-670478b9eebf",
   "metadata": {},
   "outputs": [],
   "source": [
    "level_array = np.arange(0.2, 3.0, 0.2)\n",
    "FID_util.plot_FID(level_array, transforms.functional.adjust_sharpness, \"Sharpness\", CIFAR_train, CIFAR_generated)\n",
    "plt.savefig(plot_path + \"g_CIFAR_sharpness_fid_scores\")"
   ]
  },
  {
   "cell_type": "code",
   "execution_count": null,
   "id": "7ac73e4d-541c-40e6-a8cd-0fcbb133d345",
   "metadata": {},
   "outputs": [],
   "source": [
    "FID_util.plot_FID(level_array, transforms.functional.adjust_sharpness, \"Sharpness\", CelebA_train, CelebA_generated, batch_num=125)\n",
    "plt.savefig(plot_path + \"g_CelebA_sharpness_fid_scores\")"
   ]
  },
  {
   "cell_type": "code",
   "execution_count": null,
   "id": "0032bb3f-319c-4569-be73-d87bcb502697",
   "metadata": {},
   "outputs": [],
   "source": [
    "FID_util.plot_FID(gamma_array, transforms.functional.adjust_sharpness, \"Sharpness\", CelebA_train, CelebA_ldm_generated, batch_num=125)\n",
    "plt.savefig(plot_path + \"g_CelebA_ldm_sharpness_fid_scores\")"
   ]
  },
  {
   "cell_type": "markdown",
   "id": "6c3f6bd0-d23b-452f-9fad-fe8319c68748",
   "metadata": {},
   "source": [
    "## Hue Adjust"
   ]
  },
  {
   "cell_type": "code",
   "execution_count": null,
   "id": "e1c72353-8537-4b47-b3e3-e8aa578873d0",
   "metadata": {},
   "outputs": [],
   "source": [
    "hue_array = np.arange(-0.5, 0.5, 0.1)\n",
    "FID_util.plot_FID(hue_array, transforms.functional.adjust_hue, \"Hue\", CIFAR_train, CIFAR_generated)\n",
    "plt.savefig(plot_path + \"g_CIFAR_hue_fid_scores\")"
   ]
  },
  {
   "cell_type": "code",
   "execution_count": null,
   "id": "2469d0a3-0f1b-4294-82b8-bd8c28c78198",
   "metadata": {},
   "outputs": [],
   "source": [
    "FID_util.plot_FID(hue_array, transforms.functional.adjust_hue, \"Hue\", CelebA_train, CelebA_generated, batch_num=125)\n",
    "plt.savefig(plot_path + \"g_CelebA_hue_fid_scores\")"
   ]
  },
  {
   "cell_type": "code",
   "execution_count": null,
   "id": "a62eae90-051c-408e-af3e-deb27ba86ecd",
   "metadata": {},
   "outputs": [],
   "source": [
    "FID_util.plot_FID(hue_array, transforms.functional.adjust_hue, \"Hue\", CelebA_train, CelebA_ldm_generated, batch_num=125)\n",
    "plt.savefig(plot_path + \"g_CelebA_ldm_hue_fid_scores\")"
   ]
  },
  {
   "cell_type": "markdown",
   "id": "1b247399-9183-460e-a157-3df50501e97f",
   "metadata": {},
   "source": [
    "## Invert Image"
   ]
  },
  {
   "cell_type": "code",
   "execution_count": null,
   "id": "0e1cea0f-873d-4060-b404-ec36a5bafe1c",
   "metadata": {},
   "outputs": [],
   "source": [
    "print(f\"FID of Inverted CIFAR: {FID_util.invert_FID(CIFAR_train, CIFAR_generated)}\")"
   ]
  },
  {
   "cell_type": "code",
   "execution_count": null,
   "id": "c5d8b302-a52c-4ae3-a3d2-c0bc2dce24ac",
   "metadata": {},
   "outputs": [],
   "source": [
    "print(f\"FID of Inverted CelebA DDIM: {FID_util.invert_FID(CIFAR_train, CelebA_generated, batch_num=125)}\")"
   ]
  },
  {
   "cell_type": "code",
   "execution_count": null,
   "id": "7ac0f24e-182b-459b-a716-ea7a13f690b4",
   "metadata": {},
   "outputs": [],
   "source": [
    "print(f\"FID of Inverted CelebA LDM: {FID_util.invert_FID(CIFAR_train, CelebA_ldm_generated, batch_num=125))}\")"
   ]
  },
  {
   "cell_type": "markdown",
   "id": "f14ac367-5dd6-4ddc-9200-eb42d1db8a7a",
   "metadata": {},
   "source": [
    "## Rotations"
   ]
  },
  {
   "cell_type": "code",
   "execution_count": null,
   "id": "7e390abd-dffa-4b28-9021-31cb92242fe4",
   "metadata": {},
   "outputs": [],
   "source": [
    "angles = [90, 180, 270]\n",
    "for angle in angles:\n",
    "    print(f\"------- Rotation of {angle} degrees -------\")\n",
    "    print(f\"CIFAR: {FID_util.compute_transform_FID(transforms.functional.rotate, angle, CIFAR_train, CIFAR_generated)}\")\n",
    "    print(f\"CelebA DDIM: {FID_util.compute_transform_FID(transforms.functional.rotate, angle, CelebA_train, CelebA_generated, batch_num=125)}\")\n",
    "    print(f\"CelebA LDM: {FID_util.compute_transform_FID(transforms.functional.rotate, angle, CelebA_train, CelebA_ldm_generated, batch_num=125)}\")"
   ]
  },
  {
   "cell_type": "markdown",
   "id": "1a776383-cf47-41a9-a8bc-207bca1a9386",
   "metadata": {},
   "source": [
    "## Sectional Rotations"
   ]
  },
  {
   "cell_type": "code",
   "execution_count": null,
   "id": "449aeee9-8032-4736-bd11-75219fd26926",
   "metadata": {},
   "outputs": [],
   "source": [
    "print(f\"CIFAR: {FID_util.rotate_chunk((10, 10, 22, 22), CIFAR_train, CIFAR_generated)}\")"
   ]
  },
  {
   "cell_type": "code",
   "execution_count": null,
   "id": "33283969-878e-4fca-b4f2-191da6c9f4a1",
   "metadata": {},
   "outputs": [],
   "source": [
    "print(f\"CelebA DDIM: {FID_util.rotate_chunk((40, 90, 140, 160), CelebA_train, CelebA_generated, batch_num=125)}\")"
   ]
  },
  {
   "cell_type": "code",
   "execution_count": null,
   "id": "46d9d592-5e2d-4dbb-b820-6c3b9af7dceb",
   "metadata": {},
   "outputs": [],
   "source": [
    "print(f\"CelebA LDM: {FID_util.rotate_chunk((40, 90, 140, 160), CelebA_train, CelebA_ldm_generated, batch_num=125)}\")"
   ]
  },
  {
   "cell_type": "markdown",
   "id": "38343ccd-d5f3-493d-bcce-fb7cfd8aec2a",
   "metadata": {},
   "source": [
    "## Switching Segments"
   ]
  },
  {
   "cell_type": "code",
   "execution_count": null,
   "id": "9fa5354e-e467-430d-bd52-85a00a88a354",
   "metadata": {},
   "outputs": [],
   "source": [
    "FID_util.swap_chunks((5, 10, 10, 20), (20, 15, 25, 25), CIFAR_train, CIFAR_test)"
   ]
  },
  {
   "cell_type": "code",
   "execution_count": null,
   "id": "563c0946-a399-417e-a52d-3f8e128556bf",
   "metadata": {},
   "outputs": [],
   "source": [
    "FID_util.swap_chunks((125, 100, 150, 130), (40, 100, 65, 130), CelebA_train, CelebA_generated, batch_num=125)"
   ]
  },
  {
   "cell_type": "code",
   "execution_count": null,
   "id": "fb446a43-c232-47a4-ad35-dc51315e1fd8",
   "metadata": {},
   "outputs": [],
   "source": [
    "FID_util.swap_chunks((125, 100, 150, 130), (40, 100, 65, 130), CelebA_train, CelebA_ldm_generated, batch_num=125)"
   ]
  },
  {
   "cell_type": "markdown",
   "id": "a2a6dad6-35da-406a-8af1-84004511985c",
   "metadata": {},
   "source": [
    "## Gaussian Blur"
   ]
  },
  {
   "cell_type": "code",
   "execution_count": null,
   "id": "b468110c-bb21-4ec0-a1b6-3fc0e99bb327",
   "metadata": {},
   "outputs": [],
   "source": [
    "FID_util.generate_heatmap(CIFAR_train, CIFAR_generated, plot_path + \"g_CIFAR_blurring_fid\")"
   ]
  },
  {
   "cell_type": "code",
   "execution_count": null,
   "id": "98c5285e-3811-4d5d-ae47-b368c352bc60",
   "metadata": {},
   "outputs": [],
   "source": [
    "FID_util.generate_heatmap(CelebA_train, CelebA_generated, plot_path + \"g_CelebA_blurring_fid\")"
   ]
  },
  {
   "cell_type": "code",
   "execution_count": null,
   "id": "24484ae1-1e3f-4da0-af58-f198ac589eeb",
   "metadata": {},
   "outputs": [],
   "source": [
    "FID_util.generate_heatmap(CelebA_train, CelebA_ldm_generated, plot_path + \"g_CelebA_ldm_blurring_fid\")"
   ]
  },
  {
   "cell_type": "markdown",
   "id": "43757ab0-d06d-455f-9b86-e227461a9e56",
   "metadata": {},
   "source": [
    "## Salt and Pepper Noise"
   ]
  },
  {
   "cell_type": "code",
   "execution_count": null,
   "id": "ecd1f4b9-e059-4f63-a5d4-b0d001d16f13",
   "metadata": {},
   "outputs": [],
   "source": [
    "percentages = np.arange(0, 0.1, 0.01)\n",
    "noise_FID_results = [FID_util.noisify_FID(p, CIFAR_train, CIFAR_generated, seed=seed) for p in percentages]\n",
    "plt.plot(percentages, noise_FID_results)\n",
    "plt.xlabel(\"% of 'Salt and Pepper' Noise\")\n",
    "plt.ylabel(\"FID Score\")\n",
    "plt.savefig(plot_path + \"g_CIFAR_Noise_fid_scores\")"
   ]
  },
  {
   "cell_type": "code",
   "execution_count": null,
   "id": "a12ec454-1a42-4725-a1a4-d140ae8c5253",
   "metadata": {},
   "outputs": [],
   "source": [
    "noise_FID_results = [FID_util.noisify_FID(p, CelebA_train, CelebA_generated, seed=seed, batch_num=125) for p in percentages]\n",
    "plt.plot(percentages, noise_FID_results)\n",
    "plt.xlabel(\"% of 'Salt and Pepper' Noise\")\n",
    "plt.ylabel(\"FID Score\")\n",
    "plt.savefig(plot_path + \"g_CelebA_Noise_fid_scores\")"
   ]
  },
  {
   "cell_type": "code",
   "execution_count": null,
   "id": "8320314f-de54-402c-879a-24033997f27e",
   "metadata": {},
   "outputs": [],
   "source": [
    "noise_FID_results = [FID_util.noisify_FID(p, CelebA_train, CelebA_ldm_generated, seed=seed, batch_num=125) for p in percentages]\n",
    "plt.plot(percentages, noise_FID_results)\n",
    "plt.xlabel(\"% of 'Salt and Pepper' Noise\")\n",
    "plt.ylabel(\"FID Score\")\n",
    "plt.savefig(plot_path + \"g_CelebA_ldm_Noise_fid_scores\")"
   ]
  }
 ],
 "metadata": {
  "kernelspec": {
   "display_name": "Python 3 (ipykernel)",
   "language": "python",
   "name": "python3"
  },
  "language_info": {
   "codemirror_mode": {
    "name": "ipython",
    "version": 3
   },
   "file_extension": ".py",
   "mimetype": "text/x-python",
   "name": "python",
   "nbconvert_exporter": "python",
   "pygments_lexer": "ipython3",
   "version": "3.11.4"
  }
 },
 "nbformat": 4,
 "nbformat_minor": 5
}
