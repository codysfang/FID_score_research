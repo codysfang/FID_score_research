{
 "cells": [
  {
   "cell_type": "code",
   "execution_count": 1,
   "id": "7269d422-aeef-4f88-9cdc-e4acf506c618",
   "metadata": {},
   "outputs": [
    {
     "data": {
      "text/plain": [
       "<torch._C.Generator at 0x14a757fbf530>"
      ]
     },
     "execution_count": 1,
     "metadata": {},
     "output_type": "execute_result"
    }
   ],
   "source": [
    "import torch\n",
    "import torchvision.datasets as datasets\n",
    "from torchmetrics.image.fid import FrechetInceptionDistance\n",
    "import torchvision.transforms as transforms\n",
    "from torch.utils.data import DataLoader\n",
    "import matplotlib.pyplot as plt\n",
    "import FID_util\n",
    "import numpy as np\n",
    "%matplotlib inline\n",
    "\n",
    "# Set seed here\n",
    "seed = 123459\n",
    "torch.manual_seed(seed)\n",
    "\n",
    "plot_path = \"./plots/FID_real_image/\""
   ]
  },
  {
   "cell_type": "markdown",
   "id": "f2e718f5-84e2-492c-844a-443d58494492",
   "metadata": {},
   "source": [
    "## Data Sets"
   ]
  },
  {
   "cell_type": "code",
   "execution_count": null,
   "id": "1ec22f38-ea9d-475e-b1f6-77a78498598d",
   "metadata": {},
   "outputs": [
    {
     "name": "stderr",
     "output_type": "stream",
     "text": [
      "Downloading: \"https://github.com/toshas/torch-fidelity/releases/download/v0.2.0/weights-inception-2015-12-05-6726825d.pth\" to /home/shaoqingf/.cache/torch/hub/checkpoints/weights-inception-2015-12-05-6726825d.pth\n",
      "100%|████████████████████████████████████████████████████████████████████| 91.2M/91.2M [00:04<00:00, 20.3MB/s]\n"
     ]
    }
   ],
   "source": [
    "# MNIST\n",
    "MNIST_train_loader = FID_util.DataLoader(datasets.MNIST('./data', train=True, download=True,\n",
    "                             transform=transforms.Compose([\n",
    "                               transforms.PILToTensor()])), batch_size=10000, shuffle=True);\n",
    "\n",
    "MNIST_test_loader =  FID_util.DataLoader(datasets.MNIST('./data', train=False, download=True,\n",
    "                             transform=transforms.Compose([\n",
    "                               transforms.PILToTensor()])), batch_size=10000, shuffle=True);\n",
    "MNIST_train, MNIST_test = FID_util.load_data(MNIST_train_loader, MNIST_test_loader, 10000, (28, 28))\n",
    "\n",
    "# Base FID\n",
    "print(f\"Base FID MNIST: {FID_util.compute_FID(MNIST_train, MNIST_test).item()}\")"
   ]
  },
  {
   "cell_type": "code",
   "execution_count": null,
   "id": "ad5f9ee6-71a1-4b6b-be49-f938c5b8f9cf",
   "metadata": {},
   "outputs": [],
   "source": [
    "# CIFAR 100\n",
    "CIFAR_train_loader = FID_util.DataLoader(datasets.CIFAR100('./data', train=True, download=True,\n",
    "                             transform=transforms.Compose([\n",
    "                               transforms.PILToTensor()])), batch_size=10000, shuffle=True);\n",
    "\n",
    "CIFAR_test_loader =  FID_util.DataLoader(datasets.CIFAR100('./data', train=False, download=True,\n",
    "                             transform=transforms.Compose([\n",
    "                               transforms.PILToTensor()])), batch_size=10000, shuffle=True);\n",
    "CIFAR_train, CIFAR_test = FID_util.load_data(CIFAR_train_loader, CIFAR_test_loader, 10000, (32, 32))\n",
    "\n",
    "# Base FID\n",
    "print(f\"Base FID CIFAR: {FID_util.compute_FID(CIFAR_train, CIFAR_test).item()}\")"
   ]
  },
  {
   "cell_type": "code",
   "execution_count": null,
   "id": "451db551-57b2-4320-9732-c59547ed3220",
   "metadata": {},
   "outputs": [],
   "source": [
    "# CelebA\n",
    "CelebA_train_loader = DataLoader(datasets.CelebA('./data', split=\"train\", download=True,\n",
    "                             transform=transforms.Compose([\n",
    "                               transforms.PILToTensor()])), batch_size=10000, shuffle=True);\n",
    "\n",
    "CelebA_test_loader =  DataLoader(datasets.CelebA('./data', split=\"test\", download=True,\n",
    "                             transform=transforms.Compose([\n",
    "                               transforms.PILToTensor()])), batch_size=10000, shuffle=True);\n",
    "CelebA_train, CelebA_test = FID_util.load_data(CelebA_train_loader, CelebA_test_loader, 10000, (218, 178))\n",
    "\n",
    "# Base FID\n",
    "print(f\"Base FID CelebA: {FID_util.compute_FID(CelebA_train, CelebA_test, batch_num=125).item()}\")"
   ]
  },
  {
   "cell_type": "markdown",
   "id": "60705224-0068-405c-bcfa-0cf03c58d07e",
   "metadata": {},
   "source": [
    "## Gamma Correction"
   ]
  },
  {
   "cell_type": "code",
   "execution_count": null,
   "id": "2a919fd8-d8ee-44f7-93b7-26f1899b0a6d",
   "metadata": {},
   "outputs": [],
   "source": [
    "gamma_array = np.arange(0.2, 3.0, 0.2)\n",
    "FID_util.plot_FID(gamma_array, transforms.functional.adjust_gamma, \"Gamma\", MNIST_train, MNIST_test)\n",
    "plt.savefig(plot_path + \"MNIST_gamma_fid_scores\")"
   ]
  },
  {
   "cell_type": "code",
   "execution_count": null,
   "id": "f5713700-d88a-4ab0-a959-8fcf30677560",
   "metadata": {},
   "outputs": [],
   "source": [
    "FID_util.plot_FID(gamma_array, transforms.functional.adjust_gamma, \"Gamma\", CIFAR_train, CIFAR_test)\n",
    "plt.savefig(plot_path+ \"CIFAR_gamma_fid_scores\")"
   ]
  },
  {
   "cell_type": "code",
   "execution_count": null,
   "id": "db37e9bb-5da6-49cd-abe7-b50131d4be6a",
   "metadata": {},
   "outputs": [],
   "source": [
    "FID_util.plot_FID(gamma_array, transforms.functional.adjust_gamma, \"Gamma\", CelebA_train, CelebA_test, batch_num=125)\n",
    "plt.savefig(plot_path+ \"CelebA_gamma_fid_scores\")"
   ]
  },
  {
   "cell_type": "markdown",
   "id": "774d3cbe-4b07-4e6c-a09b-639920a611f1",
   "metadata": {},
   "source": [
    "## Image Saturation"
   ]
  },
  {
   "cell_type": "code",
   "execution_count": null,
   "id": "81f3d813-3941-423d-8ae7-206787882c43",
   "metadata": {},
   "outputs": [],
   "source": [
    "level_array = np.arange(0.2, 3.0, 0.2)\n",
    "FID_util.plot_FID(level_array, transforms.functional.adjust_saturation, \"Saturation\", MNIST_train, MNIST_test)\n",
    "plt.savefig(plot_path + \"MNIST_saturation_fid_scores\")"
   ]
  },
  {
   "cell_type": "code",
   "execution_count": null,
   "id": "23735294-6b84-43cd-a8dd-1d726fb1da2f",
   "metadata": {},
   "outputs": [],
   "source": [
    "FID_util.plot_FID(level_array, transforms.functional.adjust_saturation, \"Saturation\", CIFAR_train, CIFAR_test)\n",
    "plt.savefig(plot_path + \"CIFAR_saturation_fid_scores\")"
   ]
  },
  {
   "cell_type": "code",
   "execution_count": null,
   "id": "4eefe4dd-9217-4050-8690-8c2495af00e7",
   "metadata": {},
   "outputs": [],
   "source": [
    "FID_util.plot_FID(level_array, transforms.functional.adjust_saturation, \"Saturation\", CelebA_train, CelebA_test, batch_num=125)\n",
    "plt.savefig(plot_path + \"CelebA_saturation_fid_scores\")"
   ]
  },
  {
   "cell_type": "markdown",
   "id": "df099c6b-e4f4-48c8-9d04-b137909b4de5",
   "metadata": {
    "tags": []
   },
   "source": [
    "## Image Sharpening"
   ]
  },
  {
   "cell_type": "code",
   "execution_count": null,
   "id": "c23c7874-992b-40cc-bbf5-3f51c64886bc",
   "metadata": {},
   "outputs": [],
   "source": [
    "level_array = np.arange(0.2, 3.0, 0.2)\n",
    "FID_util.plot_FID(level_array, transforms.functional.adjust_sharpness, \"Sharpness\", MNIST_train, MNIST_test)\n",
    "plt.savefig(plot_path + \"MNIST_sharpness_fid_scores\")"
   ]
  },
  {
   "cell_type": "code",
   "execution_count": null,
   "id": "da4161c6-c486-4cd9-a283-31c1e0204b8e",
   "metadata": {},
   "outputs": [],
   "source": [
    "FID_util.plot_FID(level_array, transforms.functional.adjust_sharpness, \"Sharpness\", CIFAR_train, CIFAR_test)\n",
    "plt.savefig(plot_path + \"CIFAR_sharpness_fid_scores\")"
   ]
  },
  {
   "cell_type": "code",
   "execution_count": null,
   "id": "9c7f10af-b4df-404f-83b2-395e1394e4db",
   "metadata": {},
   "outputs": [],
   "source": [
    "FID_util.plot_FID(level_array, transforms.functional.adjust_sharpness, \"Sharpness\", CelebA_train, CelebA_test, batch_num=125)\n",
    "plt.savefig(plot_path + \"CelebA_sharpness_fid_scores\")"
   ]
  },
  {
   "cell_type": "markdown",
   "id": "62ea9a19-3fa6-45ba-bba3-b1b2ed15e561",
   "metadata": {},
   "source": [
    "## Hue Adjust"
   ]
  },
  {
   "cell_type": "code",
   "execution_count": null,
   "id": "d621ae30-4caa-4214-94e3-8aa8f135005f",
   "metadata": {},
   "outputs": [],
   "source": [
    "hue_array = np.arange(-0.5, 0.5, 0.1)\n",
    "FID_util.plot_FID(hue_array, transforms.functional.adjust_hue, \"Hue\", CIFAR_train, CIFAR_test)\n",
    "plt.savefig(plot_path + \"CIFAR_hue_fid_scores\")"
   ]
  },
  {
   "cell_type": "code",
   "execution_count": null,
   "id": "320605c8-6ba6-4c1a-9de8-bd8898989e14",
   "metadata": {},
   "outputs": [],
   "source": [
    "FID_util.plot_FID(hue_array, transforms.functional.adjust_hue, \"Hue\", CelebA_train, CelebA_test, batch_num=125)\n",
    "plt.savefig(plot_path + \"CelebA_hue_fid_scores\")"
   ]
  },
  {
   "cell_type": "markdown",
   "id": "40cf0e8d-9e35-4936-acb8-cc35a3acae07",
   "metadata": {},
   "source": [
    "## Invert Image"
   ]
  },
  {
   "cell_type": "code",
   "execution_count": null,
   "id": "6ad9e82d-589e-4ad9-a1d2-e1c27b9b71e9",
   "metadata": {},
   "outputs": [],
   "source": [
    "print(f\"FID of Inverted MNIST: {FID_util.invert_FID(MNIST_train, MNIST_test)}\")"
   ]
  },
  {
   "cell_type": "code",
   "execution_count": null,
   "id": "51421ada-445f-408d-8fe7-fe7d80315066",
   "metadata": {},
   "outputs": [],
   "source": [
    "print(f\"FID of Inverted CIFAR: {FID_util.invert_FID(CIFAR_train, CIFAR_test)}\")"
   ]
  },
  {
   "cell_type": "code",
   "execution_count": null,
   "id": "08c88d4c-5f04-4a96-a918-b93d8c01699d",
   "metadata": {},
   "outputs": [],
   "source": [
    "print(f\"FID of Inverted CelebA: {FID_util.invert_FID(CelebA_train, CelebA_test, batch_num=125)}\")"
   ]
  },
  {
   "cell_type": "markdown",
   "id": "9523effe-21f6-4a32-883d-fbad0ee52472",
   "metadata": {},
   "source": [
    "## Gaussian Blur"
   ]
  },
  {
   "cell_type": "code",
   "execution_count": null,
   "id": "515cab07-f3e2-45b4-bdbb-7c742da00510",
   "metadata": {},
   "outputs": [],
   "source": [
    "FID_util.generate_heatmap(MNIST_train, MNIST_test, plot_path + \"MNIST_blurring_fid\")"
   ]
  },
  {
   "cell_type": "code",
   "execution_count": null,
   "id": "6ec18eff-e68d-425d-97d2-2fae94fbb653",
   "metadata": {},
   "outputs": [],
   "source": [
    "FID_util.generate_heatmap(CIFAR_train, CIFAR_test, plot_path + \"CIFAR_blurring_fid\")"
   ]
  },
  {
   "cell_type": "code",
   "execution_count": null,
   "id": "cb53a0d8-788b-4562-95c8-36bea1a3b5ea",
   "metadata": {},
   "outputs": [],
   "source": [
    "FID_util.generate_heatmap(CelebA_train, CelebA_test, plot_path + \"CelebA_blurring_fid\", batch_num=125)"
   ]
  },
  {
   "cell_type": "markdown",
   "id": "5ee4da29-d980-4d53-8fcd-f0e9ccf23e68",
   "metadata": {},
   "source": [
    "## Salt and Pepper Noise"
   ]
  },
  {
   "cell_type": "code",
   "execution_count": null,
   "id": "56448e46-f1ba-4c68-892e-776a4fd47241",
   "metadata": {},
   "outputs": [],
   "source": [
    "percentages = np.arange(0, 0.1, 0.01)\n",
    "noise_FID_results = [FID_util.noisify_FID(p, CIFAR_train, CIFAR_test) for p in percentages]\n",
    "plt.plot(percentages, noise_FID_results)\n",
    "plt.xlabel(\"% of 'Salt and Pepper' Noise\")\n",
    "plt.ylabel(\"FID Score\")\n",
    "plt.savefig(plot_path + \"CIFAR_Noise_fid_scores\")"
   ]
  },
  {
   "cell_type": "code",
   "execution_count": null,
   "id": "aecea3f6-6997-4566-a488-3472e95cdc16",
   "metadata": {},
   "outputs": [],
   "source": [
    "noise_FID_results = [FID_util.noisify_FID(p, CelebA_train, CelebA_test, batch_num=125) for p in percentages]\n",
    "plt.plot(percentages, noise_FID_results)\n",
    "plt.xlabel(\"% of 'Salt and Pepper' Noise\")\n",
    "plt.ylabel(\"FID Score\")\n",
    "plt.savefig(plot_path + \"CelebA_Noise_fid_scores\")"
   ]
  },
  {
   "cell_type": "markdown",
   "id": "306beee5-4bc7-4f7e-be4e-3d6709c40595",
   "metadata": {},
   "source": [
    "## Image Rotation"
   ]
  },
  {
   "cell_type": "code",
   "execution_count": null,
   "id": "3112f7ec-35a8-4542-84a6-465b850cc61a",
   "metadata": {},
   "outputs": [],
   "source": [
    "angles = [90, 180, 270]\n",
    "for angle in angles:\n",
    "    print(f\"------- Rotation of {angle} degrees -------\")\n",
    "    print(f\"MNIST: {FID_util.compute_transform_FID(transforms.functional.rotate, angle, MNIST_train, MNIST_test)}\")\n",
    "    print(f\"CIFAR: {FID_util.compute_transform_FID(transforms.functional.rotate, angle, CIFAR_train, CIFAR_test)}\")"
   ]
  },
  {
   "cell_type": "code",
   "execution_count": null,
   "id": "4a2d9d8e-58a9-44bd-9144-8e6b6b16baa0",
   "metadata": {},
   "outputs": [],
   "source": [
    "# CelebA is rectangle, so only 180 degree is possible\n",
    "print(f\"CelebA 180 degrees: {FID_util.compute_transform_FID(transforms.functional.rotate, 180, CelebA_train, CelebA_test, batch_num=125)}\")"
   ]
  },
  {
   "cell_type": "markdown",
   "id": "ae4a4343-2fe3-406d-999e-2068a5db7f09",
   "metadata": {},
   "source": [
    "## Sectional Rotations"
   ]
  },
  {
   "cell_type": "code",
   "execution_count": null,
   "id": "2e6a7e0f-7198-4453-8fa2-d51e21e66d0b",
   "metadata": {},
   "outputs": [],
   "source": [
    "print(f\"MNIST: {FID_util.rotate_chunk((9, 9, 19, 19), MNIST_train, MNIST_test)}\")"
   ]
  },
  {
   "cell_type": "code",
   "execution_count": null,
   "id": "105fbe2b-4d7b-410e-879a-e145853f0ffa",
   "metadata": {},
   "outputs": [],
   "source": [
    "print(f\"CIFAR: {FID_util.rotate_chunk((10, 10, 22, 22), CIFAR_train, CIFAR_test)}\")"
   ]
  },
  {
   "cell_type": "code",
   "execution_count": null,
   "id": "d9953c79-895f-4b4a-b27b-47dc0d4a1896",
   "metadata": {},
   "outputs": [],
   "source": [
    "print(f\"CelebA: {FID_util.rotate_chunk((40, 90, 140, 160), CelebA_train, CelebA_test, batch_num=125)}\")"
   ]
  },
  {
   "cell_type": "markdown",
   "id": "31c5a1b3-4995-4d22-a2f4-dc4a7fd1fd17",
   "metadata": {},
   "source": [
    "## Switching Segments"
   ]
  },
  {
   "cell_type": "code",
   "execution_count": null,
   "id": "c06b5749-7c9f-44e1-b85e-63c55f7e118e",
   "metadata": {},
   "outputs": [],
   "source": [
    "FID_util.swap_chunks((5, 10, 10, 20), (20, 15, 25, 25), MNIST_train, MNIST_test)"
   ]
  },
  {
   "cell_type": "code",
   "execution_count": null,
   "id": "6965ee4b-a7df-4736-8358-c6d8740e2c31",
   "metadata": {},
   "outputs": [],
   "source": [
    "FID_util.swap_chunks((5, 10, 10, 20), (20, 15, 25, 25), CIFAR_train, CIFAR_test)"
   ]
  },
  {
   "cell_type": "code",
   "execution_count": null,
   "id": "8f50f12e-dc6d-48c1-b3da-ee936d70b50e",
   "metadata": {},
   "outputs": [],
   "source": [
    "FID_util.swap_chunks((125, 100, 150, 130), (40, 100, 65, 130), CelebA_train, CelebA_test, batch_num=125)"
   ]
  }
 ],
 "metadata": {
  "kernelspec": {
   "display_name": "Python 3 (ipykernel)",
   "language": "python",
   "name": "python3"
  },
  "language_info": {
   "codemirror_mode": {
    "name": "ipython",
    "version": 3
   },
   "file_extension": ".py",
   "mimetype": "text/x-python",
   "name": "python",
   "nbconvert_exporter": "python",
   "pygments_lexer": "ipython3",
   "version": "3.11.4"
  }
 },
 "nbformat": 4,
 "nbformat_minor": 5
}
