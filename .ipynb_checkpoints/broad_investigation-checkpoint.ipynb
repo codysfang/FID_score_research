{
 "cells": [
  {
   "cell_type": "code",
   "execution_count": 1,
   "id": "7269d422-aeef-4f88-9cdc-e4acf506c618",
   "metadata": {},
   "outputs": [
    {
     "data": {
      "text/plain": [
       "<torch._C.Generator at 0x1088f82b0>"
      ]
     },
     "execution_count": 1,
     "metadata": {},
     "output_type": "execute_result"
    }
   ],
   "source": [
    "import torch\n",
    "import torchvision.datasets as datasets\n",
    "from torchmetrics.image.fid import FrechetInceptionDistance\n",
    "import torchvision.transforms as transforms\n",
    "from torch.utils.data import DataLoader\n",
    "import matplotlib.pyplot as plt\n",
    "%matplotlib inline\n",
    "\n",
    "# Set seed here\n",
    "import random\n",
    "import numpy as np\n",
    "seed = 123459\n",
    "np.random.seed(seed)\n",
    "random.seed(seed)\n",
    "torch.manual_seed(seed)"
   ]
  },
  {
   "cell_type": "code",
   "execution_count": 2,
   "id": "ff26d639-4832-4ecf-821c-22df0bd6d74b",
   "metadata": {},
   "outputs": [],
   "source": [
    "def compute_FID(image_r, image_f):\n",
    "    _ = torch.manual_seed(1982)\n",
    "    fid = FrechetInceptionDistance(feature=64)\n",
    "    fid.update(image_r, real=True)\n",
    "    fid.update(image_f, real=False)\n",
    "    FID = fid.compute()\n",
    "    return FID\n",
    "\n",
    "\n",
    "def encode_image(img):\n",
    "    transform = transforms.Compose([transforms.PILToTensor()])\n",
    "    return transform(img)\n",
    "\n",
    "def load_data(train_loader, test_loader, sample, dims):\n",
    "    _, (train, targets) = next(enumerate(train_loader))\n",
    "    _, (test, targets) = next(enumerate(test_loader))\n",
    "    train_tensor = train.expand([sample, 3, dims[0], dims[1]])\n",
    "    test_tensor = test.expand([sample, 3, dims[0], dims[1]])\n",
    "    return train_tensor, test_tensor\n",
    "\n",
    "def compute_transform_FID(transform, factor, dataset_train, dataset_test):\n",
    "    transform_test = torch.clone(dataset_test)\n",
    "    transformed_test = transform(dataset_test, factor)\n",
    "    return compute_FID(dataset_train, transformed_test).item()\n",
    "\n",
    "def plot_FID(factor_array, transformation, transform_name, dataset_train, dataset_test):\n",
    "    transformed_FID = [compute_transform_FID(transformation, x, dataset_train, dataset_test) for x in factor_array]\n",
    "    plt.plot(factor_array, transformed_FID)\n",
    "    plt.xlabel(transform_name)\n",
    "    plt.ylabel(\"FID Score\")\n",
    "    return None"
   ]
  },
  {
   "cell_type": "markdown",
   "id": "f2e718f5-84e2-492c-844a-443d58494492",
   "metadata": {},
   "source": [
    "## Data Sets"
   ]
  },
  {
   "cell_type": "code",
   "execution_count": null,
   "id": "1ec22f38-ea9d-475e-b1f6-77a78498598d",
   "metadata": {},
   "outputs": [],
   "source": [
    "# MNIST\n",
    "MNIST_train_loader = DataLoader(datasets.MNIST('./data', train=True, download=True,\n",
    "                             transform=transforms.Compose([\n",
    "                               transforms.PILToTensor()])), batch_size=1000, shuffle=True);\n",
    "\n",
    "MNIST_test_loader =  DataLoader(datasets.MNIST('./data', train=False, download=True,\n",
    "                             transform=transforms.Compose([\n",
    "                               transforms.PILToTensor()])), batch_size=1000, shuffle=True);\n",
    "MNIST_train, MNIST_test = load_data(MNIST_train_loader, MNIST_test_loader, 1000, (28, 28))\n",
    "\n",
    "# Base FID\n",
    "print(f\"Base FID MNIST: {compute_FID(MNIST_train, MNIST_test).item()}\")"
   ]
  },
  {
   "cell_type": "code",
   "execution_count": null,
   "id": "ad5f9ee6-71a1-4b6b-be49-f938c5b8f9cf",
   "metadata": {},
   "outputs": [],
   "source": [
    "# CIFAR 100\n",
    "CIFAR_train_loader = DataLoader(datasets.CIFAR100('./data', train=True, download=True,\n",
    "                             transform=transforms.Compose([\n",
    "                               transforms.PILToTensor()])), batch_size=1000, shuffle=True);\n",
    "\n",
    "CIFAR_test_loader =  DataLoader(datasets.CIFAR100('./data', train=False, download=True,\n",
    "                             transform=transforms.Compose([\n",
    "                               transforms.PILToTensor()])), batch_size=1000, shuffle=True);\n",
    "CIFAR_train, CIFAR_test = load_data(CIFAR_train_loader, CIFAR_test_loader, 1000, (32, 32))\n",
    "\n",
    "# Base FID\n",
    "print(f\"Base FID CIFAR: {compute_FID(CIFAR_train, CIFAR_test).item()}\")"
   ]
  },
  {
   "cell_type": "code",
   "execution_count": null,
   "id": "451db551-57b2-4320-9732-c59547ed3220",
   "metadata": {},
   "outputs": [],
   "source": [
    "# CelebA\n",
    "CelebA_train_loader = DataLoader(datasets.CelebA('./data', split=\"train\", download=True,\n",
    "                             transform=transforms.Compose([\n",
    "                               transforms.PILToTensor()])), batch_size=1000, shuffle=True);\n",
    "\n",
    "CelebA_test_loader =  DataLoader(datasets.CelebA('./data', split=\"test\", download=True,\n",
    "                             transform=transforms.Compose([\n",
    "                               transforms.PILToTensor()])), batch_size=1000, shuffle=True);\n",
    "CelebA_train, CelebA_test = load_data(CelebA_train_loader, CelebA_test_loader, 1000, (218, 178))\n",
    "\n",
    "# Base FID\n",
    "print(f\"Base FID CelebA: {compute_FID(CelebA_train, CelebA_test).item()}\")"
   ]
  },
  {
   "cell_type": "markdown",
   "id": "60705224-0068-405c-bcfa-0cf03c58d07e",
   "metadata": {},
   "source": [
    "## Gamma Correction"
   ]
  },
  {
   "cell_type": "code",
   "execution_count": null,
   "id": "2a919fd8-d8ee-44f7-93b7-26f1899b0a6d",
   "metadata": {},
   "outputs": [],
   "source": [
    "gamma_array = np.arange(0.2, 3.0, 0.2)\n",
    "plot_FID(gamma_array, transforms.functional.adjust_gamma, \"Gamma\", MNIST_train, MNIST_test)\n",
    "plt.savefig(\"plots/MNIST_gamma_fid_scores\")"
   ]
  },
  {
   "cell_type": "code",
   "execution_count": null,
   "id": "f5713700-d88a-4ab0-a959-8fcf30677560",
   "metadata": {},
   "outputs": [],
   "source": [
    "plot_FID(gamma_array, transforms.functional.adjust_gamma, \"Gamma\", CIFAR_train, CIFAR_test)\n",
    "plt.savefig(\"plots/CIFAR_gamma_fid_scores\")"
   ]
  },
  {
   "cell_type": "code",
   "execution_count": null,
   "id": "db37e9bb-5da6-49cd-abe7-b50131d4be6a",
   "metadata": {},
   "outputs": [],
   "source": [
    "plot_FID(gamma_array, transforms.functional.adjust_gamma, \"Gamma\", CelebA_train, CelebA_test)\n",
    "plt.savefig(\"plots/CelebA_gamma_fid_scores\")"
   ]
  },
  {
   "cell_type": "markdown",
   "id": "774d3cbe-4b07-4e6c-a09b-639920a611f1",
   "metadata": {},
   "source": [
    "## Image Saturation"
   ]
  },
  {
   "cell_type": "code",
   "execution_count": null,
   "id": "81f3d813-3941-423d-8ae7-206787882c43",
   "metadata": {},
   "outputs": [],
   "source": [
    "level_array = np.arange(0.2, 3.0, 0.2)\n",
    "plot_FID(level_array, transforms.functional.adjust_saturation, \"Saturation\", MNIST_train, MNIST_test)\n",
    "plt.savefig(\"plots/MNIST_saturation_fid_scores\")"
   ]
  },
  {
   "cell_type": "code",
   "execution_count": null,
   "id": "23735294-6b84-43cd-a8dd-1d726fb1da2f",
   "metadata": {},
   "outputs": [],
   "source": [
    "plot_FID(level_array, transforms.functional.adjust_saturation, \"Saturation\", CIFAR_train, CIFAR_test)\n",
    "plt.savefig(\"plots/CIFAR_saturation_fid_scores\")"
   ]
  },
  {
   "cell_type": "code",
   "execution_count": null,
   "id": "4eefe4dd-9217-4050-8690-8c2495af00e7",
   "metadata": {},
   "outputs": [],
   "source": [
    "plot_FID(level_array, transforms.functional.adjust_saturation, \"Saturation\", CelebA_train, CelebA_test)\n",
    "plt.savefig(\"plots/CelebA_saturation_fid_scores\")"
   ]
  },
  {
   "cell_type": "markdown",
   "id": "df099c6b-e4f4-48c8-9d04-b137909b4de5",
   "metadata": {
    "tags": []
   },
   "source": [
    "## Image Sharpening"
   ]
  },
  {
   "cell_type": "code",
   "execution_count": null,
   "id": "28259de6-617b-4328-b301-f1d1fbc3c50d",
   "metadata": {},
   "outputs": [],
   "source": [
    "data_set_sharpened = torch.clone(CIFAR_test)\n",
    "data_set_sharpened = transforms.functional.adjust_sharpness(data_set_sharpened, 3)\n",
    "display = transforms.functional.to_pil_image(data_set_sharpened[1])\n",
    "plt.imshow(display)"
   ]
  },
  {
   "cell_type": "code",
   "execution_count": null,
   "id": "c23c7874-992b-40cc-bbf5-3f51c64886bc",
   "metadata": {},
   "outputs": [],
   "source": [
    "level_array = np.arange(0.2, 3.0, 0.2)\n",
    "plot_FID(level_array, transforms.functional.adjust_sharpness, \"Sharpness\", MNIST_train, MNIST_test)\n",
    "plt.savefig(\"plots/MNIST_sharpness_fid_scores\")"
   ]
  },
  {
   "cell_type": "code",
   "execution_count": null,
   "id": "da4161c6-c486-4cd9-a283-31c1e0204b8e",
   "metadata": {},
   "outputs": [],
   "source": [
    "plot_FID(level_array, transforms.functional.adjust_sharpness, \"Sharpness\", CIFAR_train, CIFAR_test)\n",
    "plt.savefig(\"plots/CIFAR_sharpness_fid_scores\")"
   ]
  },
  {
   "cell_type": "code",
   "execution_count": null,
   "id": "9c7f10af-b4df-404f-83b2-395e1394e4db",
   "metadata": {},
   "outputs": [],
   "source": [
    "plot_FID(level_array, transforms.functional.adjust_sharpness, \"Sharpness\", CelebA_train, CelebA_test)\n",
    "plt.savefig(\"plots/CelebA_sharpness_fid_scores\")"
   ]
  },
  {
   "cell_type": "markdown",
   "id": "9523effe-21f6-4a32-883d-fbad0ee52472",
   "metadata": {},
   "source": [
    "## Gaussian Blur"
   ]
  },
  {
   "cell_type": "code",
   "execution_count": null,
   "id": "6eff2657-3ffa-49f7-9778-bf3b548a869b",
   "metadata": {},
   "outputs": [],
   "source": [
    "import seaborn as sns\n",
    "from itertools import product\n",
    "\n",
    "def generate_heatmap(dataset_train, dataset_test, dataset):\n",
    "    kernel_sizes = np.arange(1, 13, 2)\n",
    "    coords = np.array(list(product(kernel_sizes, kernel_sizes)))\n",
    "    heat_matrix = np.zeros((6, 6))\n",
    "    for c in coords:\n",
    "        heat_matrix[c[0]//2, c[1]//2] = compute_transform_FID(\n",
    "        transforms.functional.gaussian_blur, tuple(c), dataset_train, dataset_test)\n",
    "    plot = sns.heatmap(heat_matrix, annot=True, xticklabels=kernel_sizes, yticklabels=kernel_sizes, cmap=sns.diverging_palette(220, 20, as_cmap=True))\n",
    "    plot.get_figure().savefig('plots/' + dataset + '_blurring_FID.png', dpi=400)\n",
    "    return None"
   ]
  },
  {
   "cell_type": "code",
   "execution_count": null,
   "id": "cb53a0d8-788b-4562-95c8-36bea1a3b5ea",
   "metadata": {},
   "outputs": [],
   "source": [
    "generate_heatmap(CelebA_train, CelebA_test, \"CelebA\")"
   ]
  },
  {
   "cell_type": "code",
   "execution_count": null,
   "id": "6ec18eff-e68d-425d-97d2-2fae94fbb653",
   "metadata": {},
   "outputs": [],
   "source": [
    "generate_heatmap(CIFAR_train, CIFAR_test, \"CIFAR\")"
   ]
  },
  {
   "cell_type": "code",
   "execution_count": null,
   "id": "515cab07-f3e2-45b4-bdbb-7c742da00510",
   "metadata": {},
   "outputs": [],
   "source": [
    "generate_heatmap(MNIST_train, MNIST_test, \"MNIST\")"
   ]
  },
  {
   "cell_type": "code",
   "execution_count": null,
   "id": "b591e1ce-b02b-4054-ba3e-f07e85307c8d",
   "metadata": {},
   "outputs": [],
   "source": [
    "data_set_blurred = torch.clone(CelebA_test)\n",
    "data_set_blurred = transforms.functional.gaussian_blur(data_set_blurred, [13, 1])\n",
    "display = transforms.functional.to_pil_image(data_set_blurred[1])\n",
    "plt.imshow(display)"
   ]
  },
  {
   "cell_type": "code",
   "execution_count": null,
   "id": "7b0f1a4a-9357-49c3-af96-84f3f0703e5c",
   "metadata": {},
   "outputs": [],
   "source": [
    "compute_transform_FID(transforms.functional.gaussian_blur, [13,1] , CelebA_train, CelebA_test)"
   ]
  },
  {
   "cell_type": "code",
   "execution_count": null,
   "id": "c77c8dd8-4b11-48d7-ad3a-712e650d8952",
   "metadata": {},
   "outputs": [],
   "source": [
    "compute_transform_FID(transforms.functional.gaussian_blur, [9,9] , MNIST_train, MNIST_test)"
   ]
  },
  {
   "cell_type": "code",
   "execution_count": null,
   "id": "d9d3a668-9790-4046-a2f6-eee02b43ce19",
   "metadata": {},
   "outputs": [],
   "source": [
    "compute_transform_FID(transforms.functional.gaussian_blur, [9,9] , CIFAR_train, CIFAR_test)"
   ]
  },
  {
   "cell_type": "markdown",
   "id": "5ee4da29-d980-4d53-8fcd-f0e9ccf23e68",
   "metadata": {},
   "source": [
    "## Salt and Pepper Noise"
   ]
  },
  {
   "cell_type": "code",
   "execution_count": null,
   "id": "98030f2e-cc4d-4978-adb3-27f2233c49b2",
   "metadata": {},
   "outputs": [],
   "source": [
    "from skimage.util import random_noise\n",
    "\n",
    "def noisify_FID(amount, dataset_train, dataset_test, print_pic=False):\n",
    "    noised_test = torch.clone(dataset_test)\n",
    "    noised_test = torch.tensor(random_noise(noised_test, mode=\"s&p\", rng=seed, amount=amount))\n",
    "    noised_test = noised_test*255\n",
    "    noised_test = noised_test.type(torch.uint8)\n",
    "    if print_pic:\n",
    "        display = transforms.functional.to_pil_image(noised_test[1])\n",
    "        plt.imshow(display)\n",
    "    return compute_FID(dataset_train, noised_test).item()"
   ]
  },
  {
   "cell_type": "code",
   "execution_count": null,
   "id": "0cb15211-5c3b-415b-b99e-a2359acfa0b2",
   "metadata": {},
   "outputs": [],
   "source": [
    "print(f\"CIFAR Noisy FID: {noisify_FID(0.02, CIFAR_train, CIFAR_test, True)}\")"
   ]
  },
  {
   "cell_type": "code",
   "execution_count": null,
   "id": "56448e46-f1ba-4c68-892e-776a4fd47241",
   "metadata": {},
   "outputs": [],
   "source": [
    "percentages = np.arange(0, 0.1, 0.01)\n",
    "noise_FID_results = [noisify_FID(p, CIFAR_train, CIFAR_test) for p in percentages]\n",
    "plt.plot(percentages, noise_FID_results)\n",
    "plt.xlabel(\"% of 'Salt and Pepper' Noise\")\n",
    "plt.ylabel(\"FID Score\")\n",
    "plt.savefig(\"plots/CIFAR_Noise_fid_scores\")"
   ]
  },
  {
   "cell_type": "code",
   "execution_count": null,
   "id": "6ed22361-d052-4171-b042-51e27428489d",
   "metadata": {},
   "outputs": [],
   "source": [
    "print(f\"CIFAR Noisy FID: {noisify_FID(0.01, CelebA_train, CelebA_test, True)}\")"
   ]
  },
  {
   "cell_type": "code",
   "execution_count": null,
   "id": "aecea3f6-6997-4566-a488-3472e95cdc16",
   "metadata": {},
   "outputs": [],
   "source": [
    "noise_FID_results = [noisify_FID(p, CelebA_train, CelebA_test) for p in percentages]\n",
    "plt.plot(percentages, noise_FID_results)\n",
    "plt.xlabel(\"% of 'Salt and Pepper' Noise\")\n",
    "plt.ylabel(\"FID Score\")\n",
    "plt.savefig(\"plots/CelebA_Noise_fid_scores\")"
   ]
  },
  {
   "cell_type": "markdown",
   "id": "306beee5-4bc7-4f7e-be4e-3d6709c40595",
   "metadata": {},
   "source": [
    "## Image Rotation"
   ]
  },
  {
   "cell_type": "code",
   "execution_count": null,
   "id": "3112f7ec-35a8-4542-84a6-465b850cc61a",
   "metadata": {},
   "outputs": [],
   "source": [
    "angles = [90, 180, 270]\n",
    "for angle in angles:\n",
    "    print(f\"------- Rotation of {angle} degrees -------\")\n",
    "    print(f\"MNIST: {compute_transform_FID(transforms.functional.rotate, angle, MNIST_train, MNIST_test)}\")\n",
    "    print(f\"CIFAR: {compute_transform_FID(transforms.functional.rotate, angle, CIFAR_train, CIFAR_test)}\")"
   ]
  },
  {
   "cell_type": "code",
   "execution_count": null,
   "id": "4a2d9d8e-58a9-44bd-9144-8e6b6b16baa0",
   "metadata": {},
   "outputs": [],
   "source": [
    "# CelebA is rectangle, so only 180 degree is possible\n",
    "print(f\"CelebA 180 degrees: {compute_transform_FID(transforms.functional.rotate, 180, CelebA_train, CelebA_test)}\")"
   ]
  },
  {
   "cell_type": "markdown",
   "id": "ae4a4343-2fe3-406d-999e-2068a5db7f09",
   "metadata": {},
   "source": [
    "## Sectional Rotations"
   ]
  },
  {
   "cell_type": "code",
   "execution_count": null,
   "id": "d675e979-8f61-4360-bf3a-bbfe1e087acc",
   "metadata": {},
   "outputs": [],
   "source": [
    "# We rotate a section of the test images upside-down\n",
    "def rotate_chunk(grid, dataset_train, dataset_test):\n",
    "    x1, y1, x2, y2 = grid\n",
    "    dataset_test_rotated = torch.clone(dataset_test)\n",
    "    dataset_test_rotated[:, :, y1:y2,x1:x2] = transforms.functional.rotate(dataset_test_rotated[:, :, y1:y2, x1:x2], 180)\n",
    "    display = transforms.functional.to_pil_image(dataset_test_rotated[1])\n",
    "    plt.imshow(display)\n",
    "    return compute_FID(dataset_train, dataset_test_rotated).item()"
   ]
  },
  {
   "cell_type": "code",
   "execution_count": null,
   "id": "2e6a7e0f-7198-4453-8fa2-d51e21e66d0b",
   "metadata": {},
   "outputs": [],
   "source": [
    "print(f\"MNIST: {rotate_chunk((9, 9, 19, 19), MNIST_train, MNIST_test)}\")"
   ]
  },
  {
   "cell_type": "code",
   "execution_count": null,
   "id": "105fbe2b-4d7b-410e-879a-e145853f0ffa",
   "metadata": {},
   "outputs": [],
   "source": [
    "print(f\"CIFAR: {rotate_chunk((10, 10, 22, 22), CIFAR_train, CIFAR_test)}\")"
   ]
  },
  {
   "cell_type": "code",
   "execution_count": null,
   "id": "d9953c79-895f-4b4a-b27b-47dc0d4a1896",
   "metadata": {},
   "outputs": [],
   "source": [
    "print(f\"CelebA: {rotate_chunk((40, 90, 140, 160), CelebA_train, CelebA_test)}\")"
   ]
  }
 ],
 "metadata": {
  "kernelspec": {
   "display_name": "Python 3 (ipykernel)",
   "language": "python",
   "name": "python3"
  },
  "language_info": {
   "codemirror_mode": {
    "name": "ipython",
    "version": 3
   },
   "file_extension": ".py",
   "mimetype": "text/x-python",
   "name": "python",
   "nbconvert_exporter": "python",
   "pygments_lexer": "ipython3",
   "version": "3.9.16"
  }
 },
 "nbformat": 4,
 "nbformat_minor": 5
}
