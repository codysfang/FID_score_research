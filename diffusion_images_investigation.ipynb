{
 "cells": [
  {
   "cell_type": "code",
   "execution_count": 1,
   "id": "aaa9f182-49b5-4321-b316-d9f85e8774e6",
   "metadata": {},
   "outputs": [
    {
     "data": {
      "text/plain": [
       "<torch._C.Generator at 0x1077de310>"
      ]
     },
     "execution_count": 1,
     "metadata": {},
     "output_type": "execute_result"
    }
   ],
   "source": [
    "import torch\n",
    "import torchvision.transforms as transforms\n",
    "from torch.utils.data import DataLoader\n",
    "import torchvision.datasets as datasets\n",
    "import FID_util\n",
    "\n",
    "# Set seed here\n",
    "import random\n",
    "import numpy as np\n",
    "seed = 123459\n",
    "np.random.seed(seed)\n",
    "random.seed(seed)\n",
    "torch.manual_seed(seed)"
   ]
  },
  {
   "cell_type": "code",
   "execution_count": 2,
   "id": "8915405c-1b24-4e11-85a8-0b3418099704",
   "metadata": {},
   "outputs": [
    {
     "name": "stdout",
     "output_type": "stream",
     "text": [
      "Files already downloaded and verified\n"
     ]
    }
   ],
   "source": [
    "CIFAR_train_loader = DataLoader(datasets.CIFAR10('./data', train=True, download=True,\n",
    "                             transform=transforms.Compose([\n",
    "                               transforms.PILToTensor()])), batch_size=1000, shuffle=True);\n",
    "\n",
    "CIFAR_train = FID_util.load_data_single(CIFAR_train_loader, 1000, (32, 32))\n",
    "\n",
    "CIFAR_generated = FID_util.load_generated(\"./generated_images/cifar_generated/*.png\", 1000)"
   ]
  },
  {
   "cell_type": "code",
   "execution_count": 3,
   "id": "a4a8161a-9fb1-4ea3-bbbf-90fd424cd7f9",
   "metadata": {},
   "outputs": [
    {
     "data": {
      "text/plain": [
       "tensor(0.5221)"
      ]
     },
     "execution_count": 3,
     "metadata": {},
     "output_type": "execute_result"
    }
   ],
   "source": [
    "FID_util.compute_FID(CIFAR_train, CIFAR_generated)"
   ]
  },
  {
   "cell_type": "code",
   "execution_count": 4,
   "id": "64749088-9775-4aa8-94b4-ae94c9f8b000",
   "metadata": {},
   "outputs": [
    {
     "data": {
      "text/plain": [
       "2.4485456943511963"
      ]
     },
     "execution_count": 4,
     "metadata": {},
     "output_type": "execute_result"
    }
   ],
   "source": [
    "FID_util.compute_transform_FID(transforms.functional.adjust_saturation, 2.4, CIFAR_train, CIFAR_generated)"
   ]
  },
  {
   "cell_type": "code",
   "execution_count": 5,
   "id": "38948936-8730-4456-a3b7-956996592f3d",
   "metadata": {},
   "outputs": [
    {
     "data": {
      "text/plain": [
       "0.6270950436592102"
      ]
     },
     "execution_count": 5,
     "metadata": {},
     "output_type": "execute_result"
    }
   ],
   "source": [
    "FID_util.compute_transform_FID(transforms.functional.adjust_sharpness, 0.5, CIFAR_train, CIFAR_generated)"
   ]
  },
  {
   "cell_type": "code",
   "execution_count": 6,
   "id": "e5f80472-f9c5-4ad4-86cd-96ef6cfce4d5",
   "metadata": {},
   "outputs": [
    {
     "name": "stdout",
     "output_type": "stream",
     "text": [
      "CIFAR: 0.4913013279438019\n"
     ]
    },
    {
     "data": {
      "image/png": "[encoded data removed]",
      "text/plain": [
       "<Figure size 432x288 with 1 Axes>"
      ]
     },
     "metadata": {
      "needs_background": "light"
     },
     "output_type": "display_data"
    }
   ],
   "source": [
    "print(f\"CIFAR: {FID_util.rotate_chunk((10, 10, 22, 22), CIFAR_train, CIFAR_generated)}\")"
   ]
  },
  {
   "cell_type": "code",
   "execution_count": 7,
   "id": "e2cb4053-f43a-4d1c-947b-f795832d4b4d",
   "metadata": {},
   "outputs": [
    {
     "data": {
      "text/plain": [
       "1.1458255052566528"
      ]
     },
     "execution_count": 7,
     "metadata": {},
     "output_type": "execute_result"
    }
   ],
   "source": [
    "FID_util.compute_transform_FID(transforms.functional.gaussian_blur, [7,7] , CIFAR_train, CIFAR_generated)"
   ]
  },
  {
   "cell_type": "code",
   "execution_count": 8,
   "id": "758cd7e0-b0f1-46fb-8378-8802213510a8",
   "metadata": {},
   "outputs": [
    {
     "data": {
      "image/png": "[encoded data removed]",
      "text/plain": [
       "<Figure size 432x288 with 1 Axes>"
      ]
     },
     "metadata": {
      "needs_background": "light"
     },
     "output_type": "display_data"
    }
   ],
   "source": [
    "FID_util.display_image(CIFAR_generated[7])"
   ]
  }
 ],
 "metadata": {
  "kernelspec": {
   "display_name": "Python 3 (ipykernel)",
   "language": "python",
   "name": "python3"
  },
  "language_info": {
   "codemirror_mode": {
    "name": "ipython",
    "version": 3
   },
   "file_extension": ".py",
   "mimetype": "text/x-python",
   "name": "python",
   "nbconvert_exporter": "python",
   "pygments_lexer": "ipython3",
   "version": "3.9.16"
  }
 },
 "nbformat": 4,
 "nbformat_minor": 5
}
