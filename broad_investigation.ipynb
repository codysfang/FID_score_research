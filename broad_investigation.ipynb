{
 "cells": [
  {
   "cell_type": "code",
   "execution_count": 1,
   "id": "7269d422-aeef-4f88-9cdc-e4acf506c618",
   "metadata": {},
   "outputs": [
    {
     "data": {
      "text/plain": [
       "<torch._C.Generator at 0x106feb290>"
      ]
     },
     "execution_count": 1,
     "metadata": {},
     "output_type": "execute_result"
    }
   ],
   "source": [
    "import torch\n",
    "import torchvision.datasets as datasets\n",
    "from torchmetrics.image.fid import FrechetInceptionDistance\n",
    "import torchvision.transforms as transforms\n",
    "from torch.utils.data import DataLoader\n",
    "import matplotlib.pyplot as plt\n",
    "%matplotlib inline\n",
    "\n",
    "# Set seed here\n",
    "import random\n",
    "import numpy as np\n",
    "seed = 123459\n",
    "np.random.seed(seed)\n",
    "random.seed(seed)\n",
    "torch.manual_seed(seed)"
   ]
  },
  {
   "cell_type": "code",
   "execution_count": 2,
   "id": "ff26d639-4832-4ecf-821c-22df0bd6d74b",
   "metadata": {},
   "outputs": [],
   "source": [
    "def compute_FID(image_r, image_f):\n",
    "    _ = torch.manual_seed(1982)\n",
    "    fid = FrechetInceptionDistance(feature=64)\n",
    "    fid.update(image_r, real=True)\n",
    "    fid.update(image_f, real=False)\n",
    "    FID = fid.compute()\n",
    "    return FID\n",
    "\n",
    "\n",
    "def encode_image(img):\n",
    "    transform = transforms.Compose([transforms.PILToTensor()])\n",
    "    return transform(img)\n",
    "\n",
    "def load_data(train_loader, test_loader, sample, dims):\n",
    "    _, (train, targets) = next(enumerate(train_loader))\n",
    "    _, (test, targets) = next(enumerate(test_loader))\n",
    "    train_tensor = train.expand([sample, 3, dims[0], dims[1]])\n",
    "    test_tensor = test.expand([sample, 3, dims[0], dims[1]])\n",
    "    return train_tensor, test_tensor"
   ]
  },
  {
   "cell_type": "markdown",
   "id": "f2e718f5-84e2-492c-844a-443d58494492",
   "metadata": {},
   "source": [
    "## Data Sets"
   ]
  },
  {
   "cell_type": "code",
   "execution_count": 25,
   "id": "1ec22f38-ea9d-475e-b1f6-77a78498598d",
   "metadata": {},
   "outputs": [
    {
     "data": {
      "text/plain": [
       "tensor(0.0006)"
      ]
     },
     "execution_count": 25,
     "metadata": {},
     "output_type": "execute_result"
    }
   ],
   "source": [
    "# MNIST\n",
    "MNIST_train_loader = DataLoader(datasets.MNIST('./data', train=True, download=True,\n",
    "                             transform=transforms.Compose([\n",
    "                               transforms.PILToTensor()])), batch_size=1000, shuffle=True);\n",
    "\n",
    "MNIST_test_loader =  DataLoader(datasets.MNIST('./data', train=False, download=True,\n",
    "                             transform=transforms.Compose([\n",
    "                               transforms.PILToTensor()])), batch_size=1000, shuffle=True);\n",
    "MNIST_train, MNIST_test = load_data(MNIST_train_loader, MNIST_test_loader, 1000, (28, 28))\n",
    "\n",
    "# Base FID\n",
    "compute_FID(MNIST_train, MNIST_test)"
   ]
  },
  {
   "cell_type": "code",
   "execution_count": 26,
   "id": "ad5f9ee6-71a1-4b6b-be49-f938c5b8f9cf",
   "metadata": {},
   "outputs": [
    {
     "name": "stdout",
     "output_type": "stream",
     "text": [
      "Files already downloaded and verified\n",
      "Files already downloaded and verified\n"
     ]
    },
    {
     "data": {
      "text/plain": [
       "tensor(0.0150)"
      ]
     },
     "execution_count": 26,
     "metadata": {},
     "output_type": "execute_result"
    }
   ],
   "source": [
    "# CIFAR 100\n",
    "CIFAR_train_loader = DataLoader(datasets.CIFAR100('./data', train=True, download=True,\n",
    "                             transform=transforms.Compose([\n",
    "                               transforms.PILToTensor()])), batch_size=1000, shuffle=True);\n",
    "\n",
    "CIFAR_test_loader =  DataLoader(datasets.CIFAR100('./data', train=False, download=True,\n",
    "                             transform=transforms.Compose([\n",
    "                               transforms.PILToTensor()])), batch_size=1000, shuffle=True);\n",
    "CIFAR_train, CIFAR_test = load_data(CIFAR_train_loader, CIFAR_test_loader, 1000, (32, 32))\n",
    "\n",
    "# Base FID\n",
    "compute_FID(CIFAR_train, CIFAR_test)"
   ]
  },
  {
   "cell_type": "code",
   "execution_count": 27,
   "id": "451db551-57b2-4320-9732-c59547ed3220",
   "metadata": {},
   "outputs": [
    {
     "name": "stdout",
     "output_type": "stream",
     "text": [
      "Files already downloaded and verified\n",
      "Files already downloaded and verified\n"
     ]
    },
    {
     "data": {
      "text/plain": [
       "tensor(0.0281)"
      ]
     },
     "execution_count": 27,
     "metadata": {},
     "output_type": "execute_result"
    }
   ],
   "source": [
    "# CelebA\n",
    "CelebA_train_loader = DataLoader(datasets.CelebA('./data', split=\"train\", download=True,\n",
    "                             transform=transforms.Compose([\n",
    "                               transforms.PILToTensor()])), batch_size=1000, shuffle=True);\n",
    "\n",
    "CelebA_test_loader =  DataLoader(datasets.CelebA('./data', split=\"test\", download=True,\n",
    "                             transform=transforms.Compose([\n",
    "                               transforms.PILToTensor()])), batch_size=1000, shuffle=True);\n",
    "CelebA_train, CelebA_test = load_data(CelebA_train_loader, CelebA_test_loader, 1000, (218, 178))\n",
    "\n",
    "# Base FID\n",
    "compute_FID(CelebA_train, CelebA_test)"
   ]
  },
  {
   "cell_type": "markdown",
   "id": "60705224-0068-405c-bcfa-0cf03c58d07e",
   "metadata": {},
   "source": [
    "## Gamma Correction"
   ]
  },
  {
   "cell_type": "code",
   "execution_count": 6,
   "id": "60f02047-2cd6-4c86-a1e5-d7652f7ee4f8",
   "metadata": {},
   "outputs": [],
   "source": [
    "def compute_gamma_FID(gamma, dataset_train, dataset_test):\n",
    "    gamma_test = transforms.functional.adjust_gamma(dataset_test, gamma)\n",
    "    return compute_FID(dataset_train, gamma_test).item()"
   ]
  },
  {
   "cell_type": "code",
   "execution_count": 7,
   "id": "30c85756-c5ef-42f6-8c71-a86e36888775",
   "metadata": {},
   "outputs": [
    {
     "data": {
      "text/plain": [
       "2.9917736053466797"
      ]
     },
     "execution_count": 7,
     "metadata": {},
     "output_type": "execute_result"
    }
   ],
   "source": [
    "compute_gamma_FID(2,CelebA_train, CelebA_test)"
   ]
  },
  {
   "cell_type": "code",
   "execution_count": 8,
   "id": "2a919fd8-d8ee-44f7-93b7-26f1899b0a6d",
   "metadata": {},
   "outputs": [
    {
     "data": {
      "text/plain": [
       "[0.14362123608589172,\n",
       " 0.05152800306677818,\n",
       " 0.014329930767416954,\n",
       " 0.0019983856473118067,\n",
       " 0.0016129440627992153,\n",
       " 0.0074999770149588585,\n",
       " 0.016620147973299026,\n",
       " 0.027606500312685966,\n",
       " 0.03911667317152023,\n",
       " 0.051562681794166565,\n",
       " 0.06323660165071487,\n",
       " 0.07476598024368286,\n",
       " 0.08641263842582703,\n",
       " 0.09713439643383026]"
      ]
     },
     "execution_count": 8,
     "metadata": {},
     "output_type": "execute_result"
    },
    {
     "data": {
      "image/png": "[encoded data removed]",
      "text/plain": [
       "<Figure size 432x288 with 1 Axes>"
      ]
     },
     "metadata": {
      "needs_background": "light"
     },
     "output_type": "display_data"
    }
   ],
   "source": [
    "gamma_array = np.arange(0.2, 3.0, 0.2)\n",
    "gamma_FID = [compute_gamma_FID(g, MNIST_train, MNIST_test) for g in gamma_array]\n",
    "plt.plot(gamma_array, gamma_FID)"
   ]
  },
  {
   "cell_type": "markdown",
   "id": "306beee5-4bc7-4f7e-be4e-3d6709c40595",
   "metadata": {},
   "source": [
    "## Image Rotation"
   ]
  },
  {
   "cell_type": "code",
   "execution_count": 9,
   "id": "ba6f5590-ffad-4331-94f2-bb47573c2f07",
   "metadata": {},
   "outputs": [],
   "source": [
    "def compute_rotate_FID(angle, dataset_train, dataset_test):\n",
    "    rotated_test = transforms.functional.rotate(dataset_test, angle)\n",
    "    return compute_FID(dataset_train, rotated_test).item()"
   ]
  },
  {
   "cell_type": "code",
   "execution_count": 10,
   "id": "440e4c0b-b4d4-4a1b-a3b7-37fdd293960b",
   "metadata": {},
   "outputs": [
    {
     "data": {
      "image/png": "[encoded data removed]",
      "text/plain": [
       "<PIL.Image.Image image mode=RGB size=32x32>"
      ]
     },
     "execution_count": 10,
     "metadata": {},
     "output_type": "execute_result"
    }
   ],
   "source": [
    "rotated_test = transforms.functional.rotate(CIFAR_test, 90)\n",
    "this = transforms.functional.to_pil_image(rotated_test[0])\n",
    "this\n",
    "# rotated_test = transforms.functional.rotate(dataset_test, angle)"
   ]
  },
  {
   "cell_type": "code",
   "execution_count": 11,
   "id": "fe43e2fe-a54b-4396-9426-36bb21ba9053",
   "metadata": {},
   "outputs": [
    {
     "data": {
      "text/plain": [
       "0.027028370648622513"
      ]
     },
     "execution_count": 11,
     "metadata": {},
     "output_type": "execute_result"
    }
   ],
   "source": [
    "compute_rotate_FID(90, CIFAR_train, CIFAR_test)"
   ]
  },
  {
   "cell_type": "code",
   "execution_count": 20,
   "id": "4a2d9d8e-58a9-44bd-9144-8e6b6b16baa0",
   "metadata": {},
   "outputs": [
    {
     "data": {
      "text/plain": [
       "0.03830832988023758"
      ]
     },
     "execution_count": 20,
     "metadata": {},
     "output_type": "execute_result"
    }
   ],
   "source": [
    "compute_rotate_FID(180, CelebA_train, CelebA_test)"
   ]
  },
  {
   "cell_type": "code",
   "execution_count": 21,
   "id": "3112f7ec-35a8-4542-84a6-465b850cc61a",
   "metadata": {},
   "outputs": [
    {
     "data": {
      "text/plain": [
       "0.01797214336693287"
      ]
     },
     "execution_count": 21,
     "metadata": {},
     "output_type": "execute_result"
    }
   ],
   "source": [
    "compute_rotate_FID(270, MNIST_train, MNIST_test)"
   ]
  },
  {
   "cell_type": "markdown",
   "id": "774d3cbe-4b07-4e6c-a09b-639920a611f1",
   "metadata": {},
   "source": [
    "## Image Saturation"
   ]
  },
  {
   "cell_type": "code",
   "execution_count": 12,
   "id": "c1e4124a-0b4a-4a5b-85be-7cee47d4423e",
   "metadata": {},
   "outputs": [],
   "source": [
    "def compute_saturation_FID(factor, dataset_train, dataset_test):\n",
    "    saturated_test = transforms.functional.adjust_saturation(dataset_test, factor)\n",
    "    return compute_FID(dataset_train, saturated_test).item()"
   ]
  },
  {
   "cell_type": "code",
   "execution_count": 13,
   "id": "bb61840f-beca-4719-9ac4-1bf5a2c39508",
   "metadata": {},
   "outputs": [
    {
     "data": {
      "text/plain": [
       "0.7692213654518127"
      ]
     },
     "execution_count": 13,
     "metadata": {},
     "output_type": "execute_result"
    }
   ],
   "source": [
    "compute_saturation_FID(0.4, CIFAR_train, CIFAR_test)"
   ]
  },
  {
   "cell_type": "code",
   "execution_count": 14,
   "id": "23735294-6b84-43cd-a8dd-1d726fb1da2f",
   "metadata": {},
   "outputs": [
    {
     "data": {
      "image/png": "[encoded data removed]",
      "text/plain": [
       "<Figure size 432x288 with 1 Axes>"
      ]
     },
     "metadata": {
      "needs_background": "light"
     },
     "output_type": "display_data"
    }
   ],
   "source": [
    "level_array = np.arange(0.2, 3.0, 0.2)\n",
    "sat_FID = [compute_saturation_FID(l, CIFAR_train, CIFAR_test) for l in level_array]\n",
    "plt.plot(level_array, sat_FID)\n",
    "plt.show()"
   ]
  },
  {
   "cell_type": "markdown",
   "id": "ae4a4343-2fe3-406d-999e-2068a5db7f09",
   "metadata": {},
   "source": [
    "## Sectional Rotations"
   ]
  },
  {
   "cell_type": "code",
   "execution_count": 30,
   "id": "d675e979-8f61-4360-bf3a-bbfe1e087acc",
   "metadata": {},
   "outputs": [],
   "source": [
    "def remove_chunk(dataset_train, dataset_test):\n",
    "    x1, y1, x2, y2 = 10, 10, 20, 20\n",
    "    dataset_test_rotated = torch.clone(dataset_test)\n",
    "    dataset_test_rotated[:, :, y1:y2, x1:x2] = transforms.functional.rotate(dataset_test_rotated[:, :, y1:y2, x1:x2], 180)\n",
    "    display = transforms.functional.to_pil_image(dataset_test_rotated[0])\n",
    "    return compute_FID(dataset_train, dataset_test_rotated).item()"
   ]
  },
  {
   "cell_type": "code",
   "execution_count": 31,
   "id": "2e6a7e0f-7198-4453-8fa2-d51e21e66d0b",
   "metadata": {},
   "outputs": [
    {
     "name": "stdout",
     "output_type": "stream",
     "text": [
      "0.008750141598284245\n",
      "0.018010301515460014\n",
      "0.02773781679570675\n"
     ]
    }
   ],
   "source": [
    "print(remove_chunk(MNIST_train, MNIST_train))\n",
    "print(remove_chunk(CIFAR_train, CIFAR_test))\n",
    "print(remove_chunk(CelebA_train, CelebA_test))"
   ]
  },
  {
   "cell_type": "code",
   "execution_count": 32,
   "id": "57f52044-a5c5-42c8-902f-a8374d79ca18",
   "metadata": {},
   "outputs": [],
   "source": [
    "# As long as your distribution is close to the real pictures u get good score?\n",
    "# What is inception looking at? (worth looking into with perception map?) How is it not picking up the unatural edge?\n",
    "# Is the Inception doing its job but when FID does the aggregating the distribution all this info is lost?"
   ]
  },
  {
   "cell_type": "markdown",
   "id": "21f015c7-7fa7-43e3-a1b4-73d3cb413021",
   "metadata": {},
   "source": [
    "## Compression (JPEG and PNG)"
   ]
  },
  {
   "cell_type": "code",
   "execution_count": null,
   "id": "bc2c9cf7-9bc8-404d-847f-c01ae41e605d",
   "metadata": {},
   "outputs": [],
   "source": []
  },
  {
   "cell_type": "markdown",
   "id": "422c16d5-cc5f-4f2d-a6fe-ea78686c7e48",
   "metadata": {},
   "source": [
    "## Resizing"
   ]
  },
  {
   "cell_type": "code",
   "execution_count": null,
   "id": "b3534d31-462c-4d81-9719-9486427ec36b",
   "metadata": {},
   "outputs": [],
   "source": [
    "# In general we do see worse off performance across all these image adjustments, hypothetically is it helpful/conclusive to say that\n",
    "# \"since there is no change to the perceived realism, we must conclude that any FID score increase is not justified\", \n",
    "# is this in a way redundant statement almost, surely everyone knows this right?"
   ]
  },
  {
   "cell_type": "markdown",
   "id": "df099c6b-e4f4-48c8-9d04-b137909b4de5",
   "metadata": {},
   "source": [
    "## Removing Noise From Test Images? (or add unseen ones too)"
   ]
  },
  {
   "cell_type": "code",
   "execution_count": null,
   "id": "f1dcb07f-aa6c-4bcb-b064-34593a4f8534",
   "metadata": {},
   "outputs": [],
   "source": [
    "# How do we make sure the noise we add/remove is significant? (blurring, SP noise, sharpening, edge presvering)"
   ]
  }
 ],
 "metadata": {
  "kernelspec": {
   "display_name": "Python 3 (ipykernel)",
   "language": "python",
   "name": "python3"
  },
  "language_info": {
   "codemirror_mode": {
    "name": "ipython",
    "version": 3
   },
   "file_extension": ".py",
   "mimetype": "text/x-python",
   "name": "python",
   "nbconvert_exporter": "python",
   "pygments_lexer": "ipython3",
   "version": "3.9.16"
  }
 },
 "nbformat": 4,
 "nbformat_minor": 5
}
