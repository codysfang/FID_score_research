{
 "cells": [
  {
   "cell_type": "code",
   "execution_count": 1,
   "id": "7269d422-aeef-4f88-9cdc-e4acf506c618",
   "metadata": {},
   "outputs": [
    {
     "data": {
      "text/plain": [
       "<torch._C.Generator at 0x10ef8d270>"
      ]
     },
     "execution_count": 1,
     "metadata": {},
     "output_type": "execute_result"
    }
   ],
   "source": [
    "import torch\n",
    "import torchvision.datasets as datasets\n",
    "from torchmetrics.image.fid import FrechetInceptionDistance\n",
    "import torchvision.transforms as transforms\n",
    "from torch.utils.data import DataLoader\n",
    "\n",
    "torch.manual_seed(123459)"
   ]
  },
  {
   "cell_type": "code",
   "execution_count": 2,
   "id": "ff26d639-4832-4ecf-821c-22df0bd6d74b",
   "metadata": {},
   "outputs": [],
   "source": [
    "def compute_FID(image_r, image_f):\n",
    "    _ = torch.manual_seed(1982)\n",
    "    fid = FrechetInceptionDistance(feature=64)\n",
    "    fid.update(image_r, real=True)\n",
    "    fid.update(image_f, real=False)\n",
    "    FID = fid.compute()\n",
    "    return FID\n",
    "\n",
    "\n",
    "def encode_image(img):\n",
    "    transform = transforms.Compose([transforms.PILToTensor()])\n",
    "    return transform(img)"
   ]
  },
  {
   "cell_type": "markdown",
   "id": "f2e718f5-84e2-492c-844a-443d58494492",
   "metadata": {},
   "source": [
    "### MNIST Data"
   ]
  },
  {
   "cell_type": "code",
   "execution_count": 3,
   "id": "1ec22f38-ea9d-475e-b1f6-77a78498598d",
   "metadata": {},
   "outputs": [],
   "source": [
    "MNIST_train_loader = DataLoader(datasets.MNIST('./data', train=True, download=True,\n",
    "                             transform=transforms.Compose([\n",
    "                               transforms.PILToTensor()])), batch_size=1000, shuffle=True)\n",
    "\n",
    "MNIST_test_loader =  DataLoader(datasets.MNIST('./data', train=False, download=True,\n",
    "                             transform=transforms.Compose([\n",
    "                               transforms.PILToTensor()])), batch_size=1000, shuffle=True);"
   ]
  },
  {
   "cell_type": "code",
   "execution_count": 4,
   "id": "57f025e9-6a85-47ec-8645-c62bae7e23b5",
   "metadata": {},
   "outputs": [],
   "source": [
    "_, (MNIST_train, targets) = next(enumerate(MNIST_train_loader))\n",
    "_, (MNIST_test, targets) = next(enumerate(MNIST_test_loader))\n",
    "MNIST_train = MNIST_train.expand([1000, 3, 28, 28])\n",
    "MNIST_test = MNIST_test.expand([1000, 3, 28, 28])"
   ]
  },
  {
   "cell_type": "code",
   "execution_count": 5,
   "id": "ba669aaa-6ed1-43cf-a82e-ff0c5b265f83",
   "metadata": {},
   "outputs": [
    {
     "data": {
      "text/plain": [
       "tensor(0.0016)"
      ]
     },
     "execution_count": 5,
     "metadata": {},
     "output_type": "execute_result"
    }
   ],
   "source": [
    "compute_FID(MNIST_train, MNIST_test)"
   ]
  },
  {
   "cell_type": "code",
   "execution_count": 6,
   "id": "2abdc225-fa07-49c1-be7b-f2dd136b9f45",
   "metadata": {},
   "outputs": [
    {
     "data": {
      "text/plain": [
       "torch.uint8"
      ]
     },
     "execution_count": 6,
     "metadata": {},
     "output_type": "execute_result"
    }
   ],
   "source": [
    "MNIST_train.dtype"
   ]
  },
  {
   "cell_type": "code",
   "execution_count": null,
   "id": "48a84e4e-36fd-4a74-b7f3-e4870161b4ec",
   "metadata": {},
   "outputs": [],
   "source": []
  }
 ],
 "metadata": {
  "kernelspec": {
   "display_name": "Python 3 (ipykernel)",
   "language": "python",
   "name": "python3"
  },
  "language_info": {
   "codemirror_mode": {
    "name": "ipython",
    "version": 3
   },
   "file_extension": ".py",
   "mimetype": "text/x-python",
   "name": "python",
   "nbconvert_exporter": "python",
   "pygments_lexer": "ipython3",
   "version": "3.9.16"
  }
 },
 "nbformat": 4,
 "nbformat_minor": 5
}
